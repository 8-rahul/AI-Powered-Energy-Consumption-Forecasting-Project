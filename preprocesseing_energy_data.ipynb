{
  "nbformat": 4,
  "nbformat_minor": 0,
  "metadata": {
    "colab": {
      "provenance": []
    },
    "kernelspec": {
      "name": "python3",
      "display_name": "Python 3"
    },
    "language_info": {
      "name": "python"
    }
  },
  "cells": [
    {
      "cell_type": "code",
      "execution_count": null,
      "metadata": {
        "id": "OcCfsEdvf7QZ",
        "colab": {
          "base_uri": "https://localhost:8080/"
        },
        "outputId": "7b75f9ea-1dd5-47d0-873c-8efea4f7df5d"
      },
      "outputs": [
        {
          "output_type": "stream",
          "name": "stdout",
          "text": [
            "Processed data saved as 'Cleaned_Energy_Dataset.csv'\n"
          ]
        }
      ],
      "source": [
        "import pandas as pd\n",
        "import matplotlib.pyplot as plt\n",
        "\n",
        "# Load dataset (update with actual filename)\n",
        "df = pd.read_csv('/content/Energy_Consumption_Dataset.csv',\n",
        "                 parse_dates=['Datetime'],\n",
        "                 index_col='Datetime',\n",
        "                dayfirst=True)\n",
        "\n",
        "# Resample to hourly frequency (though it may already be hourly)\n",
        "df_resampled = df.resample('h').mean()\n",
        "\n",
        "# Fill missing values using forward fill\n",
        "df_resampled = df_resampled.ffill ()\n",
        "\n",
        "df_resampled = df_resampled.copy()\n",
        "\n",
        "# Extract hour and day of the week for AI feature engineering\n",
        "df_resampled['hour'] = df_resampled.index.hour\n",
        "df_resampled['day_of_week'] = df_resampled.index.dayofweek  # Monday=0, Sunday=6\n",
        "\n",
        "# Save the processed data\n",
        "df_resampled.to_csv('Cleaned_Energy_Dataset.csv')\n",
        "print(\"Processed data saved as 'Cleaned_Energy_Dataset.csv'\")\n"
      ]
    },
    {
      "cell_type": "code",
      "source": [
        "import pandas as pd\n",
        "from sklearn.model_selection import train_test_split\n",
        "from sklearn.preprocessing import StandardScaler\n",
        "from sklearn.neural_network import MLPRegressor\n",
        "from sklearn.metrics import mean_absolute_error, mean_squared_error\n",
        "\n",
        "\n",
        "# Load the preprocessed dataset\n",
        "df = pd.read_csv('/content/Cleaned_Energy_Dataset.csv', index_col=0)\n",
        "\n",
        "# Prepare features and target variable\n",
        "X = df[['hour', 'day_of_week']]\n",
        "y = df['AEP_MW']\n",
        "\n",
        "# Split data into training and testing sets\n",
        "X_train, X_test, y_train, y_test = train_test_split(X, y, test_size=0.2, random_state=42)\n",
        "\n",
        "# Standardize features\n",
        "scaler = StandardScaler()\n",
        "X_train_scaled = scaler.fit_transform(X_train)\n",
        "X_test_scaled = scaler.transform(X_test)\n",
        "\n",
        "# Train MLP Regressor model\n",
        "mlp = MLPRegressor(hidden_layer_sizes=(50, 50), activation='relu', solver='adam', max_iter=500, random_state=42)\n",
        "mlp.fit(X_train_scaled, y_train)\n",
        "\n",
        "# Make predictions\n",
        "y_pred = mlp.predict(X_test_scaled)\n",
        "\n",
        "# Evaluate the model\n",
        "mae = mean_absolute_error(y_test, y_pred)\n",
        "\n",
        "print(f'Mean Absolute Error: {mae}')\n",
        "\n",
        "\n",
        "\n"
      ],
      "metadata": {
        "colab": {
          "base_uri": "https://localhost:8080/"
        },
        "id": "kFqAFD8jkX0i",
        "outputId": "b1aabdd2-7876-420a-a23d-d63f4f6ec042"
      },
      "execution_count": null,
      "outputs": [
        {
          "output_type": "stream",
          "name": "stdout",
          "text": [
            "Mean Absolute Error: 1708.6591156374182\n"
          ]
        }
      ]
    },
    {
      "cell_type": "code",
      "source": [
        "import joblib\n",
        "joblib.dump(mlp, 'energy_forecast_model.pkl')"
      ],
      "metadata": {
        "colab": {
          "base_uri": "https://localhost:8080/"
        },
        "id": "sm8OZXj9nj6D",
        "outputId": "0eb93891-e1e5-4f37-c93d-2ee8931152fa"
      },
      "execution_count": null,
      "outputs": [
        {
          "output_type": "execute_result",
          "data": {
            "text/plain": [
              "['energy_forecast_model.pkl']"
            ]
          },
          "metadata": {},
          "execution_count": 5
        }
      ]
    }
  ]
}